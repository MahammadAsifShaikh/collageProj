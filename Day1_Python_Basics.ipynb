{
  "nbformat": 4,
  "nbformat_minor": 0,
  "metadata": {
    "colab": {
      "provenance": [],
      "authorship_tag": "ABX9TyOdKifET5CnMeLLXiq7YP2V",
      "include_colab_link": true
    },
    "kernelspec": {
      "name": "python3",
      "display_name": "Python 3"
    },
    "language_info": {
      "name": "python"
    }
  },
  "cells": [
    {
      "cell_type": "markdown",
      "metadata": {
        "id": "view-in-github",
        "colab_type": "text"
      },
      "source": [
        "<a href=\"https://colab.research.google.com/github/MahammadAsifShaikh/collageProj/blob/main/Day1_Python_Basics.ipynb\" target=\"_parent\"><img src=\"https://colab.research.google.com/assets/colab-badge.svg\" alt=\"Open In Colab\"/></a>"
      ]
    },
    {
      "cell_type": "code",
      "source": [
        "# Day 1 Practice\n",
        "name = \"Asif\"\n",
        "skills = [\"Python\", \"Git\", \"AI\"]\n",
        "print(\"Welcome\", name)\n",
        "print(\"Your Skills:\", skills)\n",
        "\n",
        "def greet(name):\n",
        "    return f\"Hello {name}, you're ready for AI/ML!\"\n",
        "\n",
        "greet(\"Asif\")\n"
      ],
      "metadata": {
        "colab": {
          "base_uri": "https://localhost:8080/",
          "height": 70
        },
        "id": "8waYJ5u2iEtv",
        "outputId": "8cbacd69-dbec-4afd-ce4b-ee588d2e350c"
      },
      "execution_count": 1,
      "outputs": [
        {
          "output_type": "stream",
          "name": "stdout",
          "text": [
            "Welcome Asif\n",
            "Your Skills: ['Python', 'Git', 'AI']\n"
          ]
        },
        {
          "output_type": "execute_result",
          "data": {
            "text/plain": [
              "\"Hello Asif, you're ready for AI/ML!\""
            ],
            "application/vnd.google.colaboratory.intrinsic+json": {
              "type": "string"
            }
          },
          "metadata": {},
          "execution_count": 1
        }
      ]
    }
  ]
}